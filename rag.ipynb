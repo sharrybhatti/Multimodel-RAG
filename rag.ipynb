{
 "cells": [
  {
   "cell_type": "code",
   "execution_count": 1,
   "metadata": {},
   "outputs": [],
   "source": [
    "import nest_asyncio\n",
    "\n",
    "nest_asyncio.apply()"
   ]
  },
  {
   "cell_type": "code",
   "execution_count": 2,
   "metadata": {},
   "outputs": [],
   "source": [
    "from llama_index.core.schema import TextNode\n",
    "from typing import List\n",
    "import json\n",
    "\n",
    "\n",
    "def get_text_nodes(json_list: List[dict]):\n",
    "    text_nodes = []\n",
    "    for idx, page in enumerate(json_list):\n",
    "        text_node = TextNode(text=page[\"md\"], metadata={\"page\": page[\"page\"]})\n",
    "        text_nodes.append(text_node)\n",
    "    return text_nodes\n",
    "\n",
    "\n",
    "def save_jsonl(data_list, filename):\n",
    "    \"\"\"Save a list of dictionaries as JSON Lines.\"\"\"\n",
    "    with open(filename, \"w\") as file:\n",
    "        for item in data_list:\n",
    "            json.dump(item, file)\n",
    "            file.write(\"\\n\")\n",
    "\n",
    "\n",
    "def load_jsonl(filename):\n",
    "    \"\"\"Load a list of dictionaries from JSON Lines.\"\"\"\n",
    "    data_list = []\n",
    "    with open(filename, \"r\") as file:\n",
    "        for line in file:\n",
    "            data_list.append(json.loads(line))\n",
    "    return data_list"
   ]
  },
  {
   "cell_type": "code",
   "execution_count": null,
   "metadata": {},
   "outputs": [
    {
     "name": "stdout",
     "output_type": "stream",
     "text": [
      "Started parsing the file under job_id dd4a2a11-be4b-4584-a977-dccb2298423c\n"
     ]
    }
   ],
   "source": [
    "from llama_parse import LlamaParse\n",
    "\n",
    "parser = LlamaParse(\n",
    "    result_type=\"markdown\",\n",
    "    use_vendor_multimodal_model=True,\n",
    "    vendor_multimodal_model_name=\"anthropic-sonnet-3.5\",\n",
    "    api_key='Your Api key'\n",
    ")\n",
    "json_objs = parser.get_json_result(r\"F:\\Sharry\\extraction\\2023-conocophillips-aim-presentation_1.pdf\")\n",
    "json_list = json_objs[0][\"pages\"]\n",
    "docs = get_text_nodes(json_list)"
   ]
  },
  {
   "cell_type": "code",
   "execution_count": 4,
   "metadata": {},
   "outputs": [
    {
     "name": "stdout",
     "output_type": "stream",
     "text": [
      "page: 11\n",
      "\n",
      "# Commitment to Disciplined Reinvestment Rate\n",
      "\n",
      "Disciplined Reinvestment Rate is the Foundation for Superior Returns on and of Capital, while Driving Durable CFO Growth\n",
      "\n",
      "| Industry Growth Focus | ConocoPhillips Strategy Reset | Key Metrics |\n",
      "|----------------------|------------------------------|-------------|\n",
      "| >100% Reinvestment Rate | <60% Reinvestment Rate | ~50% 10-Year Reinvestment Rate |\n",
      "| | | ~6% CFO CAGR 2024-2032 |\n",
      "| | | at $60/BBL WTI Mid-Cycle Planning Price |\n",
      "\n",
      "| Year Range | ConocoPhillips Average Annual Reinvestment Rate (%) | Notes |\n",
      "|------------|---------------------------------------------------|-------|\n",
      "| 2012-2016 | 100% | ~$75/BBL WTI Average, Historic Reinvestment Rate |\n",
      "| 2017-2022 | ~57% | ~$63/BBL WTI Average, Historic Reinvestment Rate |\n",
      "| 2023E | ~50% | at $80/BBL WTI, Reinvestment Rate at $60/BBL WTI |\n",
      "| 2024-2028 | ~55% | at $60/BBL WTI, Reinvestment Rate at $60/BBL WTI |\n",
      "| | ~42% | Reinvestment Rate at $80/BBL WTI |\n",
      "| 2029-2032 | ~37% | at $60/BBL WTI, Reinvestment Rate at $60/BBL WTI |\n",
      "| | ~30% | Reinvestment Rate at $80/BBL WTI |\n",
      "\n",
      "Reinvestment rate and cash from operations (CFO) are non-GAAP measures. Definitions and reconciliations are included in the Appendix.\n",
      "\n",
      "ConocoPhillips 11\n"
     ]
    }
   ],
   "source": [
    "# using Sonnet-3.5\n",
    "print(docs[10].get_content(metadata_mode=\"all\"))"
   ]
  },
  {
   "cell_type": "markdown",
   "metadata": {},
   "source": [
    "RAG Pipeline"
   ]
  },
  {
   "cell_type": "code",
   "execution_count": 5,
   "metadata": {},
   "outputs": [],
   "source": [
    "from llama_index.llms.ollama import Ollama\n",
    "from llama_index.embeddings.ollama import OllamaEmbedding\n",
    "from llama_index.core import Settings\n",
    "\n",
    "\n",
    "Settings.llm = Ollama(model=\"llama3.1\")\n",
    "Settings.embed_model = OllamaEmbedding(model_name=\"nomic-embed-text\")"
   ]
  },
  {
   "cell_type": "code",
   "execution_count": 6,
   "metadata": {},
   "outputs": [],
   "source": [
    "# from llama_index.core import SummaryIndex\n",
    "from llama_index.core import VectorStoreIndex\n",
    "from llama_index.llms.ollama import Ollama\n",
    "\n",
    "index = VectorStoreIndex(docs)\n",
    "query_engine = index.as_query_engine(similarity_top_k=5)"
   ]
  },
  {
   "cell_type": "code",
   "execution_count": 7,
   "metadata": {},
   "outputs": [],
   "source": [
    "query = \"What is Historic Reinvestment Rate \"\n",
    "\n",
    "response = query_engine.query(query)"
   ]
  },
  {
   "cell_type": "code",
   "execution_count": 8,
   "metadata": {},
   "outputs": [
    {
     "name": "stdout",
     "output_type": "stream",
     "text": [
      "~100% (for 2012-2016) and ~57% (for 2017-2022)\n"
     ]
    }
   ],
   "source": [
    "print(response)"
   ]
  },
  {
   "cell_type": "code",
   "execution_count": 9,
   "metadata": {},
   "outputs": [
    {
     "name": "stdout",
     "output_type": "stream",
     "text": [
      "# Significant Free Cash Flow Growth Over the Decade\n",
      "\n",
      "| Capital ($B) | 2023E | 2024-2028 Average | 2029-2032 Average |\n",
      "|--------------|-------|-------------------|-------------------|\n",
      "| Value        | 6.3   | 6.5               | 8.1               |\n",
      "\n",
      "| Production (MBOED) | 2023E | 2024-2028 Average | 2029-2032 Average |\n",
      "|--------------------|-------|-------------------|-------------------|\n",
      "| Value              | 1050  | 1220              | 1530              |\n",
      "\n",
      "| FCF ($B)           | 2023E | 2024-2028 Average | 2029-2032 Average |\n",
      "|--------------------|-------|-------------------|-------------------|\n",
      "| $60/BBL WTI        | 7     | 5.5               | 11                |\n",
      "| Upside Sensitivity | -     | 3                 | 3.5               |\n",
      "| Total              | 7     | 8.5               | 14.5              |\n",
      "\n",
      "## ~$65B FCF and ~50% Reinvestment Rate\n",
      "Over the Next 10 Years at $60/BBL WTI\n",
      "\n",
      "*Note: The image includes a map of the United States with some highlighted areas, likely indicating operational regions.*\n",
      "\n",
      "*Reinvestment rate and free cash flow (FCF) are non-GAAP measures defined in the appendix.*\n"
     ]
    }
   ],
   "source": [
    "print(response.source_nodes[3].get_content())"
   ]
  },
  {
   "cell_type": "code",
   "execution_count": null,
   "metadata": {},
   "outputs": [],
   "source": []
  }
 ],
 "metadata": {
  "kernelspec": {
   "display_name": "Python 3",
   "language": "python",
   "name": "python3"
  },
  "language_info": {
   "codemirror_mode": {
    "name": "ipython",
    "version": 3
   },
   "file_extension": ".py",
   "mimetype": "text/x-python",
   "name": "python",
   "nbconvert_exporter": "python",
   "pygments_lexer": "ipython3",
   "version": "3.11.0"
  }
 },
 "nbformat": 4,
 "nbformat_minor": 2
}
